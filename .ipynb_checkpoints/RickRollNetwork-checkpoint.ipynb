{
 "cells": [
  {
   "cell_type": "code",
   "execution_count": 1,
   "metadata": {},
   "outputs": [],
   "source": [
    "import time\n",
    "import pychromecast\n",
    "from pprint import pprint\n",
    "import pychromecast\n",
    "from pychromecast.controllers.youtube import YouTubeController"
   ]
  },
  {
   "cell_type": "markdown",
   "metadata": {},
   "source": [
    "# Scan for devices on network"
   ]
  },
  {
   "cell_type": "code",
   "execution_count": 2,
   "metadata": {},
   "outputs": [],
   "source": [
    "services, browser = pychromecast.discovery.discover_chromecasts()"
   ]
  },
  {
   "cell_type": "code",
   "execution_count": 3,
   "metadata": {},
   "outputs": [
    {
     "name": "stdout",
     "output_type": "stream",
     "text": [
      "[({'Google-Nest-Hub-6169d46eab514131d0945c0116c9dd51._googlecast._tcp.local.'},\n",
      "  UUID('6169d46e-ab51-4131-d094-5c0116c9dd51'),\n",
      "  'Google Nest Hub',\n",
      "  'Huiskamer',\n",
      "  '192.168.1.140',\n",
      "  8009),\n",
      " ({'Nexus-Player-98990e9d1aa15d05146a8bb3806172e1._googlecast._tcp.local.'},\n",
      "  UUID('98990e9d-1aa1-5d05-146a-8bb3806172e1'),\n",
      "  'Nexus Player',\n",
      "  'Nexus Player',\n",
      "  '192.168.1.106',\n",
      "  8009)]\n"
     ]
    }
   ],
   "source": [
    "pprint(services)\n",
    "pychromecast.discovery.stop_discovery(browser)"
   ]
  },
  {
   "cell_type": "markdown",
   "metadata": {},
   "source": [
    "# Run on one device"
   ]
  },
  {
   "cell_type": "code",
   "execution_count": null,
   "metadata": {},
   "outputs": [],
   "source": [
    "# One chromecast\n",
    "our_nexus = services[0][3]\n",
    "chromecasts, browser = pychromecast.get_listed_chromecasts(friendly_names=[our_nexus])\n",
    "cast = chromecasts[0]\n",
    "cast.wait()\n",
    "print(cast.device)\n",
    "print(cast.status)"
   ]
  },
  {
   "cell_type": "markdown",
   "metadata": {},
   "source": [
    "### Run Rick Roll for 5 times"
   ]
  },
  {
   "cell_type": "code",
   "execution_count": null,
   "metadata": {},
   "outputs": [],
   "source": [
    "repeats = 5\n",
    "stop = time.time()+(332*repeats)\n",
    "yt = YouTubeController()\n",
    "\n",
    "#while stop > time.time():\n",
    "cast.register_handler(yt)\n",
    "yt.play_video(\"dQw4w9WgXcQ\")\n",
    "\n",
    "pychromecast.discovery.stop_discovery(browser)"
   ]
  },
  {
   "cell_type": "markdown",
   "metadata": {},
   "source": [
    "# Run on all devices"
   ]
  },
  {
   "cell_type": "code",
   "execution_count": 13,
   "metadata": {},
   "outputs": [],
   "source": [
    "# Get all chromecasts on network\n",
    "divices_on_network = [i[3] for i in services]\n",
    "all_chromecasts = [pychromecast.get_listed_chromecasts(friendly_names=[name]) for name in divices_on_network]\n",
    "cast_all = [i[0][0] for i in all_chromecasts]\n",
    "let_them_wait = [i.wait() for i in cast_all]"
   ]
  },
  {
   "cell_type": "code",
   "execution_count": 15,
   "metadata": {},
   "outputs": [
    {
     "name": "stdout",
     "output_type": "stream",
     "text": [
      "[Chromecast('192.168.1.140', port=8009, device=DeviceStatus(friendly_name='Huiskamer', model_name='Google Nest Hub', manufacturer='Google Inc.', uuid=UUID('6169d46e-ab51-4131-d094-5c0116c9dd51'), cast_type='cast')),\n",
      " Chromecast('192.168.1.106', port=8009, device=DeviceStatus(friendly_name='Nexus Player', model_name='Nexus Player', manufacturer='Google Inc.', uuid=UUID('98990e9d-1aa1-5d05-146a-8bb3806172e1'), cast_type='cast'))]\n"
     ]
    }
   ],
   "source": [
    "pprint(cast_all)"
   ]
  },
  {
   "cell_type": "markdown",
   "metadata": {},
   "source": [
    "### Rick Roll all devices"
   ]
  },
  {
   "cell_type": "code",
   "execution_count": null,
   "metadata": {},
   "outputs": [],
   "source": [
    "repeats = 5\n",
    "stop = time.time()+(332*repeats)\n",
    "yt = YouTubeController()\n",
    "\n",
    "#while stop > time.time():\n",
    "for this_device in cast_all:\n",
    "    this_device.register_handler(yt)\n",
    "    yt.play_video(\"dQw4w9WgXcQ\")\n",
    "\n",
    "pychromecast.discovery.stop_discovery(browser)"
   ]
  },
  {
   "cell_type": "code",
   "execution_count": null,
   "metadata": {},
   "outputs": [],
   "source": []
  }
 ],
 "metadata": {
  "kernelspec": {
   "display_name": "Python 3",
   "language": "python",
   "name": "python3"
  },
  "language_info": {
   "codemirror_mode": {
    "name": "ipython",
    "version": 3
   },
   "file_extension": ".py",
   "mimetype": "text/x-python",
   "name": "python",
   "nbconvert_exporter": "python",
   "pygments_lexer": "ipython3",
   "version": "3.7.4"
  }
 },
 "nbformat": 4,
 "nbformat_minor": 2
}
