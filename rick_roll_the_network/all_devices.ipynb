{
 "cells": [
  {
   "cell_type": "code",
   "execution_count": 7,
   "metadata": {},
   "outputs": [],
   "source": [
    "import time\n",
    "import pychromecast\n",
    "from pprint import pprint\n",
    "import pychromecast\n",
    "from pychromecast.controllers.youtube import YouTubeController\n",
    "\n",
    "services, browser = pychromecast.discovery.discover_chromecasts()\n",
    "pychromecast.discovery.stop_discovery(browser)\n",
    "\n",
    "# Get all chromecasts on network\n",
    "divices_on_network = [i[3] for i in services]\n",
    "all_chromecasts = [pychromecast.get_listed_chromecasts(friendly_names=[name]) for name in divices_on_network]\n",
    "cast_all = [i[0][0] for i in all_chromecasts]\n",
    "let_them_wait = [i.wait() for i in cast_all]\n",
    "\n",
    "repeats = 5\n",
    "stop = time.time()+(212*repeats)\n",
    "\n",
    "while stop > time.time():\n",
    "    for this_device in cast_all:\n",
    "        yt = YouTubeController()\n",
    "        this_device.register_handler(yt)\n",
    "        yt.play_video(\"dQw4w9WgXcQ\")\n",
    "\n",
    "pychromecast.discovery.stop_discovery(browser)"
   ]
  }
 ],
 "metadata": {
  "kernelspec": {
   "display_name": "Python 3",
   "language": "python",
   "name": "python3"
  },
  "language_info": {
   "codemirror_mode": {
    "name": "ipython",
    "version": 3
   },
   "file_extension": ".py",
   "mimetype": "text/x-python",
   "name": "python",
   "nbconvert_exporter": "python",
   "pygments_lexer": "ipython3",
   "version": "3.7.4"
  }
 },
 "nbformat": 4,
 "nbformat_minor": 2
}
